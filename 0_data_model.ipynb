{
 "cells": [
  {
   "cell_type": "markdown",
   "metadata": {
    "tags": []
   },
   "source": [
    "# Data Model Project\n",
    "#### Leyton Jean Piere Castro"
   ]
  },
  {
   "cell_type": "markdown",
   "metadata": {},
   "source": [
    "A data model is a conceptual representation of data and the relationships between different data elements. It defines how data is organized, stored, and accessed in a database management system. Data models help to ensure data accuracy, consistency, and integrity in an organization's database. In other words, a data model is a blueprint that describes the structure, content, and flow of data in a database.\n",
    "\n",
    "## What is important\n",
    "\n",
    "Data modeling is important because it helps to ensure that data is organized in a way that is accurate, consistent, and easy to access. By creating a data model, organizations can identify potential issues with their data and take steps to address them before they become larger problems. Additionally, a well-designed data model can help to improve the efficiency and effectiveness of database operations, which can ultimately improve an organization's bottom line.\n",
    "\n",
    "## Relational model\n",
    "\n",
    "The relational model is a data model that represents data as a collection of tables, with each table representing a specific entity or concept. The tables are composed of columns, which represent the attributes or characteristics of the entity, and rows, which represent individual instances of the entity. The tables are connected to each other through relationships, which allow data to be accessed and combined from multiple tables. The relational model is widely used in modern database management systems and is considered to be a standard for organizing and accessing data.\n",
    "\n",
    "## Relational databases\n",
    "\n",
    "Relational databases are a type of database management system that is based on the relational model. In a relational database, data is organized into tables, with each table representing a specific entity or concept. For example, a company might have a table for employees, with columns for each employee's name, job title, and salary. Each row in the table represents an individual employee.\n",
    "\n",
    "Relational databases allow data to be accessed and combined from multiple tables through relationships. For example, a company might have a second table for departments, with columns for each department's name and manager. By creating a relationship between the employees table and the departments table, the company can access information about which employees are in which department, and which department each employee's manager is responsible for.\n",
    "\n",
    "Relational databases are widely used in modern organizations for managing data. Some examples of popular relational database management systems include MySQL, Oracle, and Microsoft SQL Server.\n",
    "\n",
    "### Advantages\n",
    "\n",
    "- Relational databases are flexible and can be easily scaled to manage large amounts of data.\n",
    "- They allow data to be accessed and combined from multiple tables through relationships.\n",
    "- They provide a consistent and standardized way of organizing and accessing data.\n",
    "- They ensure data accuracy, consistency, and integrity.\n",
    "- They support complex queries and can handle large amounts of data efficiently.\n",
    "- They provide a high level of security and access control to protect sensitive data.\n",
    "- They are widely used and supported, with many available tools and resources for development and management.\n",
    "\n",
    "ACID transactions are a set of properties that guarantee that database transactions are processed reliably. ACID stands for Atomicity, Consistency, Isolation, and Durability. Atomicity means that a transaction is treated as a single, indivisible unit of work, either all of it is done or none of it is done. Consistency means that the database will always be in a valid state before and after the transaction. Isolation means that concurrent transactions do not interfere with each other. Durability means that once a transaction is committed, it is permanent and can survive any subsequent system failures.\n",
    "\n",
    "## When to not use\n",
    "\n",
    "- When the data does not have a well-defined structure or is unstructured, such as with social media posts or multimedia files.\n",
    "- When the data is too large or complex to be effectively managed by a relational database.\n",
    "- When the data requires frequent updates or changes, as this can be inefficient in a relational database.\n",
    "- When the application requires high performance for read-heavy workloads, as other types of databases may be more efficient.\n",
    "\n",
    "## PostgreSQL\n",
    "\n",
    "PostgreSQL is a powerful, open-source object-relational database management system. It is known for its reliability, scalability, and extensibility, and is widely used in many industries, including finance, healthcare, and telecommunications. PostgreSQL supports a wide range of features, including ACID transactions, foreign keys, triggers, and stored procedures, and has a large and active community of developers and users who contribute to its ongoing development and improvement."
   ]
  },
  {
   "cell_type": "markdown",
   "metadata": {},
   "source": [
    "## 0. Import"
   ]
  },
  {
   "cell_type": "code",
   "execution_count": 16,
   "metadata": {
    "vscode": {
     "languageId": "plaintext"
    }
   },
   "outputs": [],
   "source": [
    "import psycopg2"
   ]
  },
  {
   "cell_type": "markdown",
   "metadata": {},
   "source": [
    "## 1. Create a DB connection"
   ]
  },
  {
   "cell_type": "code",
   "execution_count": 4,
   "metadata": {},
   "outputs": [],
   "source": [
    "try:\n",
    "    conn = psycopg2.connect(\"host=localhost dbname=bd user=ljpcastroc password=password\")\n",
    "except pyscopg2.Error as e:\n",
    "    print(\"Couldn't connect to database\")\n",
    "    print(e)"
   ]
  },
  {
   "cell_type": "markdown",
   "metadata": {},
   "source": [
    "## 2. Get a cursor"
   ]
  },
  {
   "cell_type": "code",
   "execution_count": 5,
   "metadata": {},
   "outputs": [],
   "source": [
    "try:\n",
    "    cur = conn.cursor()\n",
    "except pyscopg2.Error as e:\n",
    "    print(\"Couldn't create a cursor\")\n",
    "    print(e)"
   ]
  },
  {
   "cell_type": "markdown",
   "metadata": {},
   "source": [
    "### 2.1. Setup a automatic commit"
   ]
  },
  {
   "cell_type": "code",
   "execution_count": 6,
   "metadata": {},
   "outputs": [],
   "source": [
    "conn.set_session(autocommit=True)"
   ]
  },
  {
   "cell_type": "markdown",
   "metadata": {},
   "source": [
    "### 2.2. Create a database"
   ]
  },
  {
   "cell_type": "code",
   "execution_count": 7,
   "metadata": {},
   "outputs": [],
   "source": [
    "try:\n",
    "    cur.execute(\"create database dmodeldb\")\n",
    "except pyscopg2.Error as e:\n",
    "    print(e)"
   ]
  },
  {
   "cell_type": "markdown",
   "metadata": {},
   "source": [
    "## 3. Let's go to work in the new db"
   ]
  },
  {
   "cell_type": "markdown",
   "metadata": {},
   "source": [
    "So, we should close the actual connection and setup a new connection to the new db."
   ]
  },
  {
   "cell_type": "code",
   "execution_count": 8,
   "metadata": {},
   "outputs": [],
   "source": [
    "# Setup connection\n",
    "try:\n",
    "    conn = psycopg2.connect(\"host=localhost dbname=dmodeldb user=ljpcastroc password=password\")\n",
    "except pyscopg2.Error as e:\n",
    "    print(\"Couldn't connect to database\")\n",
    "    print(e)\n",
    "\n",
    "# Create a cursor\n",
    "try:\n",
    "    cur = conn.cursor()\n",
    "except pyscopg2.Error as e:\n",
    "    print(\"Couldn't create a cursor\")\n",
    "    print(e)\n",
    "\n",
    "# setup autocommit\n",
    "conn.set_session(autocommit=True)"
   ]
  },
  {
   "cell_type": "markdown",
   "metadata": {},
   "source": [
    "## 4. Create and insert table"
   ]
  },
  {
   "cell_type": "markdown",
   "metadata": {},
   "source": [
    "student_id  \n",
    "name  \n",
    "age  \n",
    "gender  \n",
    "subject  \n",
    "marks  "
   ]
  },
  {
   "cell_type": "code",
   "execution_count": 9,
   "metadata": {},
   "outputs": [],
   "source": [
    "try:\n",
    "    cur.execute(\"\"\"CREATE TABLE IF NOT EXISTS students (\n",
    "                       student_id INT,\n",
    "                       name VARCHAR(100),\n",
    "                       age INT,\n",
    "                       gender VARCHAR(15),\n",
    "                       subject VARCHAR(150),\n",
    "                       marks INT\n",
    "               )\"\"\")\n",
    "except pyscopg2.Error as e:\n",
    "    print(\"error creating table\")\n",
    "    print(e)"
   ]
  },
  {
   "cell_type": "markdown",
   "metadata": {},
   "source": [
    "### 4.1 Insert rows"
   ]
  },
  {
   "cell_type": "markdown",
   "metadata": {},
   "source": [
    "First Row: 1, \"Raj\", 23, \"Male\", \"Python\", 85  \n",
    "Second Row: 2, \"Priya\", 22, \"Female\", \"Python\", 86"
   ]
  },
  {
   "cell_type": "code",
   "execution_count": 12,
   "metadata": {},
   "outputs": [],
   "source": [
    "try :\n",
    "    cur.execute( \"INSERT INTO students (student_id, name, age, gender, subject, marks) \\\n",
    "                  VALUES (%s, %s, %s, %s, %s, %s)\", \\\n",
    "                  (1, \"Rai\", 23, \"Male\", \"Python\", 85))\n",
    "except psycopg2. Error as e:\n",
    "    print( \"Error: Inserting Rows\")\n",
    "    print (e)\n",
    "try :\n",
    "    cur.execute( \"INSERT INTO students (student_id, name, age, gender, subject, marks) \\\n",
    "                  VALUES (%s, %s, %s, %s, %s, %s)\", \\\n",
    "                  (2, \"Priya\", 22, \"Female\", \"Python\", 86))\n",
    "except psycopg2. Error as e:\n",
    "    print( \"Error: Inserting Rows\")\n",
    "    print (e)"
   ]
  },
  {
   "cell_type": "markdown",
   "metadata": {},
   "source": [
    "### 4.2 Validate data insert"
   ]
  },
  {
   "cell_type": "markdown",
   "metadata": {},
   "source": [
    "cur.fetchone() is a method used to retrieve a single row from a result set returned by a SQL query. It is typically used with the SELECT statement. Once you have executed a query and obtained a result set, you can call fetchone() on the cursor object to retrieve the first row of the result set. If there are no more rows, fetchone() returns None. If you want to retrieve all the rows of the result set, you can use the fetchall() method instead."
   ]
  },
  {
   "cell_type": "code",
   "execution_count": 14,
   "metadata": {},
   "outputs": [
    {
     "name": "stdout",
     "output_type": "stream",
     "text": [
      "(1, 'Rai', 23, 'Male', 'Python', 85)\n",
      "(2, 'Priya', 22, 'Female', 'Python', 86)\n"
     ]
    }
   ],
   "source": [
    "# Select sentence\n",
    "try:\n",
    "    cur.execute(\"SELECT * FROM students\")\n",
    "except psycopg2. Error as e:\n",
    "    print( \"Error: selecting row\")\n",
    "    print (e)\n",
    "\n",
    "# Use a fetchone\n",
    "row = cur.fetchone()\n",
    "while row:\n",
    "    print(row)\n",
    "    row = cur.fetchone()"
   ]
  },
  {
   "cell_type": "markdown",
   "metadata": {},
   "source": [
    "## 5. Close"
   ]
  },
  {
   "cell_type": "code",
   "execution_count": 15,
   "metadata": {},
   "outputs": [],
   "source": [
    "cur.close()\n",
    "conn.close()"
   ]
  },
  {
   "cell_type": "code",
   "execution_count": null,
   "metadata": {},
   "outputs": [],
   "source": []
  }
 ],
 "metadata": {
  "kernelspec": {
   "display_name": "Python 3 (ipykernel)",
   "language": "python",
   "name": "python3"
  },
  "language_info": {
   "codemirror_mode": {
    "name": "ipython",
    "version": 3
   },
   "file_extension": ".py",
   "mimetype": "text/x-python",
   "name": "python",
   "nbconvert_exporter": "python",
   "pygments_lexer": "ipython3",
   "version": "3.9.16"
  }
 },
 "nbformat": 4,
 "nbformat_minor": 4
}
